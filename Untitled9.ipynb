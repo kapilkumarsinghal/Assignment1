{
 "cells": [
  {
   "cell_type": "code",
   "execution_count": 4,
   "metadata": {},
   "outputs": [
    {
     "name": "stdout",
     "output_type": "stream",
     "text": [
      "1 2 3 4 5 6 7 8 9 1 2 3\n",
      "Number of even numbers : 5\n",
      "Number of odd numbers : 7\n"
     ]
    }
   ],
   "source": [
    "arr = list(map(int,input().split()))\n",
    "countodd=0\n",
    "counteven=0\n",
    "for i in arr:\n",
    "    if i%2==0:\n",
    "        counteven = counteven+1\n",
    "    else:\n",
    "        countodd =countodd+1\n",
    "print(\"Number of even numbers :\",counteven)\n",
    "print(\"Number of odd numbers :\",countodd)"
   ]
  },
  {
   "cell_type": "code",
   "execution_count": null,
   "metadata": {},
   "outputs": [],
   "source": []
  }
 ],
 "metadata": {
  "kernelspec": {
   "display_name": "Python 3",
   "language": "python",
   "name": "python3"
  },
  "language_info": {
   "codemirror_mode": {
    "name": "ipython",
    "version": 3
   },
   "file_extension": ".py",
   "mimetype": "text/x-python",
   "name": "python",
   "nbconvert_exporter": "python",
   "pygments_lexer": "ipython3",
   "version": "3.7.6"
  }
 },
 "nbformat": 4,
 "nbformat_minor": 4
}
